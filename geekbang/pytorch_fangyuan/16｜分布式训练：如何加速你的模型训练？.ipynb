{
 "cells": [
  {
   "cell_type": "markdown",
   "id": "9f1d6600",
   "metadata": {},
   "source": [
    "#  分布式训练原理\n",
    "\n",
    "1. 谁分布了？答案有两个：数据与模型。\n",
    "\n",
    "2. 怎么分布？答案也有两个：单机多卡与多机多卡。\n",
    "\n",
    "\n",
    "## 单机单卡\n",
    "\n",
    ">device = torch.device(\"cuda:0\" if torch.cuda.is_available() else \"cpu\")\n",
    "\n",
    "第一步，我们需要知道手头有多少 GPU"
   ]
  },
  {
   "cell_type": "code",
   "execution_count": 12,
   "id": "252206dc",
   "metadata": {},
   "outputs": [
    {
     "data": {
      "text/plain": [
       "True"
      ]
     },
     "execution_count": 12,
     "metadata": {},
     "output_type": "execute_result"
    }
   ],
   "source": [
    "import torch \n",
    "torch.cuda.is_available()"
   ]
  },
  {
   "cell_type": "code",
   "execution_count": 13,
   "id": "a4621f38",
   "metadata": {},
   "outputs": [
    {
     "data": {
      "text/plain": [
       "1"
      ]
     },
     "execution_count": 13,
     "metadata": {},
     "output_type": "execute_result"
    }
   ],
   "source": [
    "torch.cuda.device_count()"
   ]
  },
  {
   "cell_type": "markdown",
   "id": "205492e6",
   "metadata": {},
   "source": [
    "第二步，获得 GPU 的一个实例。例如下面的语句："
   ]
  },
  {
   "cell_type": "code",
   "execution_count": 14,
   "id": "50dd9ab0",
   "metadata": {},
   "outputs": [],
   "source": [
    "device = torch.device(\"cuda:0\" if torch.cuda.is_available() else \"cpu\")"
   ]
  },
  {
   "cell_type": "code",
   "execution_count": 15,
   "id": "1087a282",
   "metadata": {},
   "outputs": [
    {
     "data": {
      "text/plain": [
       "device(type='cuda', index=0)"
      ]
     },
     "execution_count": 15,
     "metadata": {},
     "output_type": "execute_result"
    }
   ],
   "source": [
    "device"
   ]
  },
  {
   "cell_type": "markdown",
   "id": "f557c3fc",
   "metadata": {},
   "source": [
    "第三步，将数据或者模型推到 GPU 上去，这个过程我们称为迁移。"
   ]
  },
  {
   "cell_type": "code",
   "execution_count": 16,
   "id": "8f065720",
   "metadata": {},
   "outputs": [
    {
     "name": "stdout",
     "output_type": "stream",
     "text": [
      "cpu\n",
      "cuda:0\n"
     ]
    }
   ],
   "source": [
    "\n",
    "data = torch.ones((3, 3))\n",
    "print(data.device)\n",
    "# Get: cpu\n",
    "\n",
    "# 获得device\n",
    "# device = torch.device(\"cuda: 0\")\n",
    "\n",
    "# 将data推到gpu上\n",
    "data_gpu = data.to(device)\n",
    "print(data_gpu.device)\n",
    "# Get: cuda:0\n"
   ]
  },
  {
   "cell_type": "code",
   "execution_count": 17,
   "id": "5cf72f43",
   "metadata": {},
   "outputs": [
    {
     "ename": "NameError",
     "evalue": "name 'nn' is not defined",
     "output_type": "error",
     "traceback": [
      "\u001b[0;31m---------------------------------------------------------------------------\u001b[0m",
      "\u001b[0;31mNameError\u001b[0m                                 Traceback (most recent call last)",
      "Input \u001b[0;32mIn [17]\u001b[0m, in \u001b[0;36m<cell line: 1>\u001b[0;34m()\u001b[0m\n\u001b[0;32m----> 1\u001b[0m net \u001b[38;5;241m=\u001b[39m \u001b[43mnn\u001b[49m\u001b[38;5;241m.\u001b[39mSequential(nn\u001b[38;5;241m.\u001b[39mLinear(\u001b[38;5;241m3\u001b[39m, \u001b[38;5;241m3\u001b[39m))\n\u001b[1;32m      2\u001b[0m net\u001b[38;5;241m.\u001b[39mto(device)\n",
      "\u001b[0;31mNameError\u001b[0m: name 'nn' is not defined"
     ]
    }
   ],
   "source": [
    "\n",
    "net = nn.Sequential(nn.Linear(3, 3))\n",
    "net.to(device)"
   ]
  },
  {
   "cell_type": "markdown",
   "id": "caba7bde",
   "metadata": {},
   "source": [
    "##  单机多卡\n",
    "\n",
    "\n",
    ">torch.nn.DataParallel(module, device_ids=None, output_device=None, dim=0)"
   ]
  },
  {
   "cell_type": "markdown",
   "id": "ab2043de",
   "metadata": {},
   "source": [
    "##  多机多卡"
   ]
  },
  {
   "cell_type": "markdown",
   "id": "60d71704",
   "metadata": {},
   "source": [
    "### DP 与 DDP\n",
    "\n",
    "DataParallel\n",
    "\n",
    "DistributedDataParallel 也是我们实现多机多卡的关键 API。\n",
    "\n",
    "#### DDP 训练\n",
    "\n",
    "\n",
    "> torch.distributed.init_process_group(backend, init_method=None,, world_size=-1, rank=-1, group_name='')"
   ]
  },
  {
   "cell_type": "markdown",
   "id": "24e044b0",
   "metadata": {},
   "source": [
    "# 小试牛刀"
   ]
  },
  {
   "cell_type": "markdown",
   "id": "84f9bfd9",
   "metadata": {},
   "source": [
    "# 小结"
   ]
  },
  {
   "cell_type": "markdown",
   "id": "d8275863",
   "metadata": {},
   "source": [
    "# 每日一练"
   ]
  },
  {
   "cell_type": "markdown",
   "id": "f4498c37",
   "metadata": {},
   "source": [
    "# QA"
   ]
  },
  {
   "cell_type": "markdown",
   "id": "8df4135a",
   "metadata": {},
   "source": [
    "# todo"
   ]
  },
  {
   "cell_type": "code",
   "execution_count": null,
   "id": "32135646",
   "metadata": {},
   "outputs": [],
   "source": []
  }
 ],
 "metadata": {
  "kernelspec": {
   "display_name": "Python [conda env:pytorch_p38]",
   "language": "python",
   "name": "conda-env-pytorch_p38-py"
  },
  "language_info": {
   "codemirror_mode": {
    "name": "ipython",
    "version": 3
   },
   "file_extension": ".py",
   "mimetype": "text/x-python",
   "name": "python",
   "nbconvert_exporter": "python",
   "pygments_lexer": "ipython3",
   "version": "3.8.13"
  },
  "toc": {
   "base_numbering": 1,
   "nav_menu": {},
   "number_sections": true,
   "sideBar": true,
   "skip_h1_title": false,
   "title_cell": "Table of Contents",
   "title_sidebar": "Contents",
   "toc_cell": false,
   "toc_position": {},
   "toc_section_display": true,
   "toc_window_display": false
  }
 },
 "nbformat": 4,
 "nbformat_minor": 5
}
