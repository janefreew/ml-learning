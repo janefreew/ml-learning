{
 "cells": [
  {
   "cell_type": "markdown",
   "id": "8775d35f",
   "metadata": {},
   "source": [
    "## 创建数组\n",
    "\n",
    "### np.array() 属于深拷贝\n",
    "### np.asarray() 则是浅拷贝"
   ]
  },
  {
   "cell_type": "code",
   "execution_count": 64,
   "id": "780f046e",
   "metadata": {},
   "outputs": [],
   "source": [
    "import numpy as np\n",
    "arr_1_d = np.asarray([1])\n",
    "arr_2_d = np.asarray([[1, 2], [3, 4]])"
   ]
  },
  {
   "cell_type": "markdown",
   "id": "28330e00",
   "metadata": {},
   "source": [
    "## 数组的属性\n",
    "\n",
    "\n",
    "\n",
    "### ndim\n",
    "\n",
    "数组维度（或轴）的个数"
   ]
  },
  {
   "cell_type": "code",
   "execution_count": 65,
   "id": "25f5ef3d",
   "metadata": {},
   "outputs": [
    {
     "data": {
      "text/plain": [
       "1"
      ]
     },
     "execution_count": 65,
     "metadata": {},
     "output_type": "execute_result"
    }
   ],
   "source": [
    "arr_1_d.ndim"
   ]
  },
  {
   "cell_type": "markdown",
   "id": "c89852f9",
   "metadata": {},
   "source": [
    "### shape"
   ]
  },
  {
   "cell_type": "code",
   "execution_count": 66,
   "id": "42ea2d60",
   "metadata": {},
   "outputs": [
    {
     "data": {
      "text/plain": [
       "(2, 2)"
      ]
     },
     "execution_count": 66,
     "metadata": {},
     "output_type": "execute_result"
    }
   ],
   "source": [
    "arr_2_d.shape"
   ]
  },
  {
   "cell_type": "markdown",
   "id": "8604468e",
   "metadata": {},
   "source": [
    "####   reshape形状变换\n",
    "\n",
    "    变换前与变换后数组的元素个数需要是一样的\n",
    "    np.reshape(a, newshape, order) "
   ]
  },
  {
   "cell_type": "code",
   "execution_count": 67,
   "id": "e2136e11",
   "metadata": {},
   "outputs": [
    {
     "data": {
      "text/plain": [
       "array([[1, 2, 3, 4]])"
      ]
     },
     "execution_count": 67,
     "metadata": {},
     "output_type": "execute_result"
    }
   ],
   "source": [
    "\n",
    "arr_2_d.reshape((1,4))\n",
    "\n"
   ]
  },
  {
   "cell_type": "code",
   "execution_count": 68,
   "id": "e19697d3",
   "metadata": {},
   "outputs": [
    {
     "data": {
      "text/plain": [
       "array([[1, 2],\n",
       "       [3, 4]])"
      ]
     },
     "execution_count": 68,
     "metadata": {},
     "output_type": "execute_result"
    }
   ],
   "source": [
    "arr_2_d"
   ]
  },
  {
   "cell_type": "code",
   "execution_count": 69,
   "id": "4b927d25",
   "metadata": {},
   "outputs": [
    {
     "data": {
      "text/plain": [
       "array([[1, 2],\n",
       "       [3, 4]])"
      ]
     },
     "execution_count": 69,
     "metadata": {},
     "output_type": "execute_result"
    }
   ],
   "source": [
    "np.reshape(arr_2_d, (2, 2)) "
   ]
  },
  {
   "cell_type": "markdown",
   "id": "afef6874",
   "metadata": {},
   "source": [
    "### size\n",
    "\n",
    "    数组元素的总数，它就等于 shape 属性中元素的乘积。"
   ]
  },
  {
   "cell_type": "code",
   "execution_count": 70,
   "id": "5e575d1d",
   "metadata": {},
   "outputs": [
    {
     "data": {
      "text/plain": [
       "4"
      ]
     },
     "execution_count": 70,
     "metadata": {},
     "output_type": "execute_result"
    }
   ],
   "source": [
    "arr_2_d.size"
   ]
  },
  {
   "cell_type": "markdown",
   "id": "d803b49f",
   "metadata": {},
   "source": [
    "### dtype\n",
    "    dtype，它是一个描述数组中元素类型的对象\n",
    "    type 属性可以查看数组所属的数据类型。"
   ]
  },
  {
   "cell_type": "code",
   "execution_count": 71,
   "id": "33ec7365",
   "metadata": {},
   "outputs": [
    {
     "data": {
      "text/plain": [
       "dtype('int64')"
      ]
     },
     "execution_count": 71,
     "metadata": {},
     "output_type": "execute_result"
    }
   ],
   "source": [
    "arr_2_d.dtype"
   ]
  },
  {
   "cell_type": "code",
   "execution_count": 72,
   "id": "82e80d9a",
   "metadata": {},
   "outputs": [
    {
     "data": {
      "text/plain": [
       "dtype('float64')"
      ]
     },
     "execution_count": 72,
     "metadata": {},
     "output_type": "execute_result"
    }
   ],
   "source": [
    "arr_2_d = np.asarray([[1, 2], [3, 4]], dtype='float')\n",
    "arr_2_d.dtype"
   ]
  },
  {
   "cell_type": "code",
   "execution_count": 73,
   "id": "5cb162bc",
   "metadata": {},
   "outputs": [
    {
     "name": "stdout",
     "output_type": "stream",
     "text": [
      "float64\n",
      "int32\n"
     ]
    }
   ],
   "source": [
    "\n",
    "arr_2_d.dtype\n",
    "arr_2_d.astype('int32')\n",
    "\n",
    "print(arr_2_d.dtype)\n",
    "\n",
    "arr_2_d_int = arr_2_d.astype('int32')\n",
    "print(arr_2_d_int.dtype)\n"
   ]
  },
  {
   "cell_type": "markdown",
   "id": "24f6123e",
   "metadata": {},
   "source": [
    "## 其他创建数组的方式"
   ]
  },
  {
   "cell_type": "markdown",
   "id": "75213165",
   "metadata": {},
   "source": [
    "### np.ones() 与 np.zeros()"
   ]
  },
  {
   "cell_type": "code",
   "execution_count": 74,
   "id": "520ee713",
   "metadata": {},
   "outputs": [
    {
     "data": {
      "text/plain": [
       "dtype('float64')"
      ]
     },
     "execution_count": 74,
     "metadata": {},
     "output_type": "execute_result"
    }
   ],
   "source": [
    "one_arr = np.ones(shape=(2,3))\n",
    "one_arr.dtype"
   ]
  },
  {
   "cell_type": "markdown",
   "id": "c6d52404",
   "metadata": {},
   "source": [
    "### np.arange()\n",
    "    \n",
    "    np.arange([start, ]stop, [step, ]dtype=None) \n",
    "    左闭右开区间  数组并不包含 stop \n",
    "    step 是可选参数，默认是 1\n",
    "    \n",
    "### np.linspace()\n",
    "\n",
    "    np.linspace（start, stop, num=50, endpoint=True, retstep=False, dtype=None）\n",
    "    创建一个从开始数值到结束数值的等差数列\n",
    "    \n",
    "   * endpoint：默认为 True，如果为 True，则数组最后一个元素是 stop。\n",
    "      \n",
    "   * etstep：默认为 False，如果为 True，则返回数组与公差。"
   ]
  },
  {
   "cell_type": "markdown",
   "id": "aa640e59",
   "metadata": {},
   "source": [
    "#### 应用\n"
   ]
  },
  {
   "cell_type": "code",
   "execution_count": 75,
   "id": "232ce557",
   "metadata": {},
   "outputs": [
    {
     "name": "stdout",
     "output_type": "stream",
     "text": [
      "Requirement already satisfied: matplotlib in /home/yc/anaconda3/envs/pytorch_p38/lib/python3.8/site-packages (3.5.3)\n",
      "Requirement already satisfied: python-dateutil>=2.7 in /home/yc/anaconda3/envs/pytorch_p38/lib/python3.8/site-packages (from matplotlib) (2.8.2)\n",
      "Requirement already satisfied: cycler>=0.10 in /home/yc/anaconda3/envs/pytorch_p38/lib/python3.8/site-packages (from matplotlib) (0.11.0)\n",
      "Requirement already satisfied: fonttools>=4.22.0 in /home/yc/anaconda3/envs/pytorch_p38/lib/python3.8/site-packages (from matplotlib) (4.37.1)\n",
      "Requirement already satisfied: packaging>=20.0 in /home/yc/anaconda3/envs/pytorch_p38/lib/python3.8/site-packages (from matplotlib) (21.3)\n",
      "Requirement already satisfied: pillow>=6.2.0 in /home/yc/anaconda3/envs/pytorch_p38/lib/python3.8/site-packages (from matplotlib) (9.2.0)\n",
      "Requirement already satisfied: numpy>=1.17 in /home/yc/anaconda3/envs/pytorch_p38/lib/python3.8/site-packages (from matplotlib) (1.23.2)\n",
      "Requirement already satisfied: pyparsing>=2.2.1 in /home/yc/anaconda3/envs/pytorch_p38/lib/python3.8/site-packages (from matplotlib) (3.0.9)\n",
      "Requirement already satisfied: kiwisolver>=1.0.1 in /home/yc/anaconda3/envs/pytorch_p38/lib/python3.8/site-packages (from matplotlib) (1.4.4)\n",
      "Requirement already satisfied: six>=1.5 in /home/yc/anaconda3/envs/pytorch_p38/lib/python3.8/site-packages (from python-dateutil>=2.7->matplotlib) (1.16.0)\n",
      "\u001b[33mWARNING: Error parsing requirements for ipython-genutils: [Errno 2] No such file or directory: '/home/yc/anaconda3/envs/pytorch_p38/lib/python3.8/site-packages/ipython_genutils-0.2.0.dist-info/METADATA'\u001b[0m\u001b[33m\n",
      "\u001b[0m"
     ]
    }
   ],
   "source": [
    "!pip install matplotlib"
   ]
  },
  {
   "cell_type": "code",
   "execution_count": 76,
   "id": "4e45b855",
   "metadata": {},
   "outputs": [
    {
     "name": "stderr",
     "output_type": "stream",
     "text": [
      "No artists with labels found to put in legend.  Note that artists whose label start with an underscore are ignored when legend() is called with no argument.\n"
     ]
    },
    {
     "data": {
      "image/png": "[encoded data removed]",
      "text/plain": [
       "<Figure size 432x288 with 1 Axes>"
      ]
     },
     "metadata": {
      "needs_background": "light"
     },
     "output_type": "display_data"
    }
   ],
   "source": [
    "import numpy as np\n",
    "import matplotlib.pyplot as plt\n",
    "\n",
    "X = np.arange(-50, 51, 2)\n",
    "Y = X ** 2\n",
    "\n",
    "plt.plot(X, Y, color='blue')\n",
    "plt.legend()\n",
    "plt.show()"
   ]
  },
  {
   "cell_type": "markdown",
   "id": "e86074d5",
   "metadata": {},
   "source": [
    "## 数组的轴\n",
    "\n",
    "    axis\n",
    "   \n",
    "    数组的轴即数组的维度，它是从 0 开始的。"
   ]
  },
  {
   "cell_type": "code",
   "execution_count": 77,
   "id": "c2ad348d",
   "metadata": {},
   "outputs": [
    {
     "data": {
      "text/plain": [
       "array([[9, 1, 1],\n",
       "       [3, 7, 2],\n",
       "       [1, 9, 9],\n",
       "       [1, 8, 7]])"
      ]
     },
     "execution_count": 77,
     "metadata": {},
     "output_type": "execute_result"
    }
   ],
   "source": [
    "\n",
    "interest_score = np.random.randint(10, size=(4, 3))\n",
    "interest_score\n"
   ]
  },
  {
   "cell_type": "code",
   "execution_count": 78,
   "id": "ed30290d",
   "metadata": {},
   "outputs": [
    {
     "data": {
      "text/plain": [
       "array([14, 25, 19])"
      ]
     },
     "execution_count": 78,
     "metadata": {},
     "output_type": "execute_result"
    }
   ],
   "source": [
    "np.sum(interest_score, axis=0)"
   ]
  },
  {
   "cell_type": "code",
   "execution_count": 79,
   "id": "fa33e259",
   "metadata": {},
   "outputs": [
    {
     "data": {
      "text/plain": [
       "array([11, 12, 19, 16])"
      ]
     },
     "execution_count": 79,
     "metadata": {},
     "output_type": "execute_result"
    }
   ],
   "source": [
    "np.sum(interest_score, axis=1)"
   ]
  },
  {
   "cell_type": "markdown",
   "id": "c73dfd43",
   "metadata": {},
   "source": [
    "###  聚合\n",
    "\n",
    "    axis 参数非常常见\n",
    "\n",
    "#### sum \n",
    "#### max\n",
    "#### min\n",
    "#### mean\n",
    "#### argmin\n",
    "\n",
    "形状为 (a, b, c) 的数组，沿着 0 轴聚合后，形状变为 (b, c)；沿着 1 轴聚合后，形状变为 (a, c)；"
   ]
  },
  {
   "cell_type": "code",
   "execution_count": 80,
   "id": "1e010ef6",
   "metadata": {},
   "outputs": [
    {
     "data": {
      "text/plain": [
       "array([9, 9, 9])"
      ]
     },
     "execution_count": 80,
     "metadata": {},
     "output_type": "execute_result"
    }
   ],
   "source": [
    "interest_score.max(axis=0)"
   ]
  },
  {
   "cell_type": "code",
   "execution_count": 81,
   "id": "a85d55c0",
   "metadata": {},
   "outputs": [
    {
     "data": {
      "text/plain": [
       "array([9, 7, 9, 8])"
      ]
     },
     "execution_count": 81,
     "metadata": {},
     "output_type": "execute_result"
    }
   ],
   "source": [
    "interest_score.max(axis=1)"
   ]
  },
  {
   "cell_type": "code",
   "execution_count": 82,
   "id": "db8f7e45",
   "metadata": {},
   "outputs": [
    {
     "data": {
      "text/plain": [
       "array([[[ 0,  1,  2],\n",
       "        [ 3,  4,  5]],\n",
       "\n",
       "       [[ 6,  7,  8],\n",
       "        [ 9, 10, 11]],\n",
       "\n",
       "       [[12, 13, 14],\n",
       "        [15, 16, 17]]])"
      ]
     },
     "execution_count": 82,
     "metadata": {},
     "output_type": "execute_result"
    }
   ],
   "source": [
    "a = np.arange(18).reshape(3,2,3)\n",
    "a"
   ]
  },
  {
   "cell_type": "code",
   "execution_count": 83,
   "id": "1dac61ab",
   "metadata": {},
   "outputs": [
    {
     "data": {
      "text/plain": [
       "array([[12, 13, 14],\n",
       "       [15, 16, 17]])"
      ]
     },
     "execution_count": 83,
     "metadata": {},
     "output_type": "execute_result"
    }
   ],
   "source": [
    "a.max(axis=0)"
   ]
  },
  {
   "cell_type": "code",
   "execution_count": 84,
   "id": "3468976a",
   "metadata": {},
   "outputs": [
    {
     "data": {
      "text/plain": [
       "array([[ 3,  4,  5],\n",
       "       [ 9, 10, 11],\n",
       "       [15, 16, 17]])"
      ]
     },
     "execution_count": 84,
     "metadata": {},
     "output_type": "execute_result"
    }
   ],
   "source": [
    "a.max(axis=1)"
   ]
  },
  {
   "cell_type": "code",
   "execution_count": 85,
   "id": "f8a03176",
   "metadata": {},
   "outputs": [
    {
     "data": {
      "text/plain": [
       "array([[ 2,  5],\n",
       "       [ 8, 11],\n",
       "       [14, 17]])"
      ]
     },
     "execution_count": 85,
     "metadata": {},
     "output_type": "execute_result"
    }
   ],
   "source": [
    "a.max(axis=2)"
   ]
  },
  {
   "cell_type": "markdown",
   "id": "64351fa7",
   "metadata": {},
   "source": [
    "## 小结\n",
    "\n",
    "* NumPy 是用于 Python 中科学计算的一个基础包。它提供了一个多维度的数组对象，以及针对数组对象的各种快速操作。\n",
    "* 重点要掌握的方法，就是如何使用 np.asarray 创建一个数组。这里涉及数组属性（ndim、shape、dtype、size）的灵活使用，特别是数组的形状变化与数据类型转换。\n",
    "* 最后，我为你介绍了数组轴的概念，我们需要在数组的**聚合函数**中灵活运用它。"
   ]
  },
  {
   "cell_type": "markdown",
   "id": "ebe9672c",
   "metadata": {},
   "source": [
    "## 每课一练\n",
    "\n",
    "`"
   ]
  },
  {
   "cell_type": "code",
   "execution_count": 87,
   "id": "7395198f",
   "metadata": {},
   "outputs": [
    {
     "name": "stdout",
     "output_type": "stream",
     "text": [
      "[3.66666667 4.         6.33333333 5.33333333]\n"
     ]
    }
   ],
   "source": [
    "mean_1 = np.mean(interest_score, axis=1)\n",
    "\n",
    "print(mean_1)\n"
   ]
  },
  {
   "cell_type": "code",
   "execution_count": null,
   "id": "c244c784",
   "metadata": {},
   "outputs": [],
   "source": []
  }
 ],
 "metadata": {
  "kernelspec": {
   "display_name": "Python [conda env:pytorch_p38]",
   "language": "python",
   "name": "conda-env-pytorch_p38-py"
  },
  "language_info": {
   "codemirror_mode": {
    "name": "ipython",
    "version": 3
   },
   "file_extension": ".py",
   "mimetype": "text/x-python",
   "name": "python",
   "nbconvert_exporter": "python",
   "pygments_lexer": "ipython3",
   "version": "3.8.13"
  },
  "toc": {
   "base_numbering": 1,
   "nav_menu": {},
   "number_sections": true,
   "sideBar": true,
   "skip_h1_title": false,
   "title_cell": "Table of Contents",
   "title_sidebar": "Contents",
   "toc_cell": false,
   "toc_position": {},
   "toc_section_display": true,
   "toc_window_display": true
  }
 },
 "nbformat": 4,
 "nbformat_minor": 5
}
