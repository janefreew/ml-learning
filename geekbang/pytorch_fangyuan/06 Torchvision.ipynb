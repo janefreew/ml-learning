{
 "cells": [
  {
   "cell_type": "markdown",
   "id": "f1e4c3d3",
   "metadata": {},
   "source": [
    "# PyTorch 中的数据读取\n",
    "\n",
    "## Dataset 类\n",
    "```\n",
    "继承 Dataset 类时，至少需要重写以下几个方法：_\n",
    "_init__()：构造函数，可自定义数据读取方法以及进行数据预处理；\n",
    "__len__()：返回数据集大小；\n",
    "__getitem__()：索引数据集中的某一个数据。\n",
    "```"
   ]
  },
  {
   "cell_type": "markdown",
   "id": "5af651cd",
   "metadata": {},
   "source": []
  },
  {
   "cell_type": "code",
   "execution_count": 1,
   "id": "b7c8705f",
   "metadata": {},
   "outputs": [],
   "source": [
    "\n",
    "import torch\n",
    "from torch.utils.data import Dataset\n",
    "\n",
    "class MyDataset(Dataset):\n",
    "    # 构造函数\n",
    "    def __init__(self, data_tensor, target_tensor):\n",
    "        self.data_tensor = data_tensor\n",
    "        self.target_tensor = target_tensor\n",
    "    # 返回数据集大小\n",
    "    def __len__(self):\n",
    "        return self.data_tensor.size(0)\n",
    "    # 返回索引的数据与标签\n",
    "    def __getitem__(self, index):\n",
    "        return self.data_tensor[index], self.target_tensor[index]"
   ]
  },
  {
   "cell_type": "code",
   "execution_count": 4,
   "id": "11bfe0a6",
   "metadata": {},
   "outputs": [
    {
     "name": "stdout",
     "output_type": "stream",
     "text": [
      "tensor([[-0.9849, -0.0599, -0.9594],\n",
      "        [ 0.3254, -0.5734,  0.8641],\n",
      "        [-0.9356, -1.1406,  1.0723],\n",
      "        [-0.4413,  1.2660,  1.4593],\n",
      "        [-1.2774, -0.7374, -1.0824],\n",
      "        [ 0.5354,  0.0068,  1.2872],\n",
      "        [ 0.1782, -2.4065, -0.1798],\n",
      "        [-0.9404,  0.9411, -0.3518],\n",
      "        [ 1.6631,  0.3896, -0.1946],\n",
      "        [-0.7375, -0.3674,  0.0832]])\n",
      "tensor([0, 0, 0, 0, 0, 0, 1, 1, 0, 1])\n",
      "Dataset size: 10\n",
      "tensor_data[0]:  (tensor([-0.9849, -0.0599, -0.9594]), tensor(0))\n"
     ]
    },
    {
     "data": {
      "text/plain": [
       "'\\n输出:\\ntensor_data[0]:  (tensor([ 0.4931, -0.0697,  0.4171]), tensor(0))\\n'"
      ]
     },
     "execution_count": 4,
     "metadata": {},
     "output_type": "execute_result"
    }
   ],
   "source": [
    "\n",
    "# 生成数据\n",
    "data_tensor = torch.randn(10, 3)\n",
    "print(data_tensor)\n",
    "target_tensor = torch.randint(2, (10,)) # 标签是0或1\n",
    "print(target_tensor)\n",
    "# 将数据封装成Dataset\n",
    "my_dataset = MyDataset(data_tensor, target_tensor)\n",
    "\n",
    "# 查看数据集大小\n",
    "print('Dataset size:', len(my_dataset))\n",
    "'''\n",
    "输出：\n",
    "Dataset size: 10\n",
    "'''\n",
    "\n",
    "# 使用索引调用数据\n",
    "print('tensor_data[0]: ', my_dataset[0])\n",
    "'''\n",
    "输出:\n",
    "tensor_data[0]:  (tensor([ 0.4931, -0.0697,  0.4171]), tensor(0))\n",
    "'''"
   ]
  },
  {
   "cell_type": "markdown",
   "id": "93c5c5b6",
   "metadata": {},
   "source": [
    "## DataLoader 类\n",
    "\n",
    "### 背景\n",
    "    在实际项目中，如果数据量很大，考虑到内存有限、I/O 速度等问题，在训练过程中不可能一次性的将所有数据全部加载到内存中，\n",
    "    也不能只用一个进程去加载，所以就需要多进程、迭代加载，而 DataLoader 就是基于这些需要被设计出来的。\n",
    "    \n",
    "    DataLoader 是一个迭代器，最基本的使用方法就是传入一个 Dataset 对象，它会根据参数 batch_size 的值生成一个 batch 的数据，节省内存的同时，它还可以实现多进程、数据打乱等处理。\n",
    "    \n"
   ]
  },
  {
   "cell_type": "code",
   "execution_count": 5,
   "id": "190b9ad4",
   "metadata": {},
   "outputs": [
    {
     "name": "stdout",
     "output_type": "stream",
     "text": [
      "tensor([[-0.9404,  0.9411, -0.3518],\n",
      "        [-1.2774, -0.7374, -1.0824]]) tensor([1, 0])\n",
      "tensor([[ 1.6631,  0.3896, -0.1946],\n",
      "        [-0.4413,  1.2660,  1.4593]]) tensor([0, 0])\n",
      "tensor([[ 0.3254, -0.5734,  0.8641],\n",
      "        [-0.9356, -1.1406,  1.0723]]) tensor([0, 0])\n",
      "tensor([[ 0.5354,  0.0068,  1.2872],\n",
      "        [-0.7375, -0.3674,  0.0832]]) tensor([0, 1])\n",
      "tensor([[ 0.1782, -2.4065, -0.1798],\n",
      "        [-0.9849, -0.0599, -0.9594]]) tensor([1, 0])\n",
      "One batch tensor data:  [tensor([[-0.9356, -1.1406,  1.0723],\n",
      "        [ 0.5354,  0.0068,  1.2872]]), tensor([0, 0])]\n"
     ]
    },
    {
     "data": {
      "text/plain": [
       "'\\n输出:\\nOne batch tensor data:  [tensor([[ 0.9451, -0.4923, -1.8178],\\n        [-0.4046, -0.5436, -1.7911]]), tensor([0, 0])]\\n'"
      ]
     },
     "execution_count": 5,
     "metadata": {},
     "output_type": "execute_result"
    }
   ],
   "source": [
    "\n",
    "from torch.utils.data import DataLoader\n",
    "tensor_dataloader = DataLoader(dataset=my_dataset, # 传入的数据集, 必须参数\n",
    "                               batch_size=2,       # 输出的batch大小\n",
    "                               shuffle=True,       # 数据是否打乱\n",
    "                               num_workers=0)      # 进程数, 0表示只有主进程\n",
    "\n",
    "# 以循环形式输出\n",
    "for data, target in tensor_dataloader: \n",
    "    print(data, target)\n",
    "'''\n",
    "输出:\n",
    "tensor([[-0.1781, -1.1019, -0.1507],\n",
    "        [-0.6170,  0.2366,  0.1006]]) tensor([0, 0])\n",
    "tensor([[ 0.9451, -0.4923, -1.8178],\n",
    "        [-0.4046, -0.5436, -1.7911]]) tensor([0, 0])\n",
    "tensor([[-0.4561, -1.2480, -0.3051],\n",
    "        [-0.9738,  0.9465,  0.4812]]) tensor([1, 0])\n",
    "tensor([[ 0.0260,  1.5276,  0.1687],\n",
    "        [ 1.3692, -0.0170, -1.6831]]) tensor([1, 0])\n",
    "tensor([[ 0.0515, -0.8892, -0.1699],\n",
    "        [ 0.4931, -0.0697,  0.4171]]) tensor([1, 0])\n",
    "'''\n",
    " \n",
    "# 输出一个batch\n",
    "print('One batch tensor data: ', iter(tensor_dataloader).next())\n",
    "'''\n",
    "输出:\n",
    "One batch tensor data:  [tensor([[ 0.9451, -0.4923, -1.8178],\n",
    "        [-0.4046, -0.5436, -1.7911]]), tensor([0, 0])]\n",
    "'''"
   ]
  },
  {
   "cell_type": "code",
   "execution_count": 7,
   "id": "b8dda253",
   "metadata": {},
   "outputs": [
    {
     "name": "stdout",
     "output_type": "stream",
     "text": [
      "Help on module torch.utils.data.dataloader in torch.utils.data:\n",
      "\n",
      "NAME\n",
      "    torch.utils.data.dataloader - Definition of the DataLoader and associated iterators that subclass _BaseDataLoaderIter\n",
      "\n",
      "DESCRIPTION\n",
      "    To support these two classes, in `./_utils` we define many utility methods and\n",
      "    functions to be run in multiprocessing. E.g., the data loading worker loop is\n",
      "    in `./_utils/worker.py`.\n",
      "\n",
      "CLASSES\n",
      "    typing.Generic(builtins.object)\n",
      "        DataLoader\n",
      "    \n",
      "    class DataLoader(typing.Generic)\n",
      "     |  DataLoader(*args, **kwds)\n",
      "     |  \n",
      "     |  Data loader. Combines a dataset and a sampler, and provides an iterable over\n",
      "     |  the given dataset.\n",
      "     |  \n",
      "     |  The :class:`~torch.utils.data.DataLoader` supports both map-style and\n",
      "     |  iterable-style datasets with single- or multi-process loading, customizing\n",
      "     |  loading order and optional automatic batching (collation) and memory pinning.\n",
      "     |  \n",
      "     |  See :py:mod:`torch.utils.data` documentation page for more details.\n",
      "     |  \n",
      "     |  Args:\n",
      "     |      dataset (Dataset): dataset from which to load the data.\n",
      "     |      batch_size (int, optional): how many samples per batch to load\n",
      "     |          (default: ``1``).\n",
      "     |      shuffle (bool, optional): set to ``True`` to have the data reshuffled\n",
      "     |          at every epoch (default: ``False``).\n",
      "     |      sampler (Sampler or Iterable, optional): defines the strategy to draw\n",
      "     |          samples from the dataset. Can be any ``Iterable`` with ``__len__``\n",
      "     |          implemented. If specified, :attr:`shuffle` must not be specified.\n",
      "     |      batch_sampler (Sampler or Iterable, optional): like :attr:`sampler`, but\n",
      "     |          returns a batch of indices at a time. Mutually exclusive with\n",
      "     |          :attr:`batch_size`, :attr:`shuffle`, :attr:`sampler`,\n",
      "     |          and :attr:`drop_last`.\n",
      "     |      num_workers (int, optional): how many subprocesses to use for data\n",
      "     |          loading. ``0`` means that the data will be loaded in the main process.\n",
      "     |          (default: ``0``)\n",
      "     |      collate_fn (callable, optional): merges a list of samples to form a\n",
      "     |          mini-batch of Tensor(s).  Used when using batched loading from a\n",
      "     |          map-style dataset.\n",
      "     |      pin_memory (bool, optional): If ``True``, the data loader will copy Tensors\n",
      "     |          into device/CUDA pinned memory before returning them.  If your data elements\n",
      "     |          are a custom type, or your :attr:`collate_fn` returns a batch that is a custom type,\n",
      "     |          see the example below.\n",
      "     |      drop_last (bool, optional): set to ``True`` to drop the last incomplete batch,\n",
      "     |          if the dataset size is not divisible by the batch size. If ``False`` and\n",
      "     |          the size of dataset is not divisible by the batch size, then the last batch\n",
      "     |          will be smaller. (default: ``False``)\n",
      "     |      timeout (numeric, optional): if positive, the timeout value for collecting a batch\n",
      "     |          from workers. Should always be non-negative. (default: ``0``)\n",
      "     |      worker_init_fn (callable, optional): If not ``None``, this will be called on each\n",
      "     |          worker subprocess with the worker id (an int in ``[0, num_workers - 1]``) as\n",
      "     |          input, after seeding and before data loading. (default: ``None``)\n",
      "     |      generator (torch.Generator, optional): If not ``None``, this RNG will be used\n",
      "     |          by RandomSampler to generate random indexes and multiprocessing to generate\n",
      "     |          `base_seed` for workers. (default: ``None``)\n",
      "     |      prefetch_factor (int, optional, keyword-only arg): Number of batches loaded\n",
      "     |          in advance by each worker. ``2`` means there will be a total of\n",
      "     |          2 * num_workers batches prefetched across all workers. (default: ``2``)\n",
      "     |      persistent_workers (bool, optional): If ``True``, the data loader will not shutdown\n",
      "     |          the worker processes after a dataset has been consumed once. This allows to\n",
      "     |          maintain the workers `Dataset` instances alive. (default: ``False``)\n",
      "     |      pin_memory_device (str, optional): the data loader will copy Tensors\n",
      "     |          into device pinned memory before returning them if pin_memory is set to true.\n",
      "     |  \n",
      "     |  \n",
      "     |  .. warning:: If the ``spawn`` start method is used, :attr:`worker_init_fn`\n",
      "     |               cannot be an unpicklable object, e.g., a lambda function. See\n",
      "     |               :ref:`multiprocessing-best-practices` on more details related\n",
      "     |               to multiprocessing in PyTorch.\n",
      "     |  \n",
      "     |  .. warning:: ``len(dataloader)`` heuristic is based on the length of the sampler used.\n",
      "     |               When :attr:`dataset` is an :class:`~torch.utils.data.IterableDataset`,\n",
      "     |               it instead returns an estimate based on ``len(dataset) / batch_size``, with proper\n",
      "     |               rounding depending on :attr:`drop_last`, regardless of multi-process loading\n",
      "     |               configurations. This represents the best guess PyTorch can make because PyTorch\n",
      "     |               trusts user :attr:`dataset` code in correctly handling multi-process\n",
      "     |               loading to avoid duplicate data.\n",
      "     |  \n",
      "     |               However, if sharding results in multiple workers having incomplete last batches,\n",
      "     |               this estimate can still be inaccurate, because (1) an otherwise complete batch can\n",
      "     |               be broken into multiple ones and (2) more than one batch worth of samples can be\n",
      "     |               dropped when :attr:`drop_last` is set. Unfortunately, PyTorch can not detect such\n",
      "     |               cases in general.\n",
      "     |  \n",
      "     |               See `Dataset Types`_ for more details on these two types of datasets and how\n",
      "     |               :class:`~torch.utils.data.IterableDataset` interacts with\n",
      "     |               `Multi-process data loading`_.\n",
      "     |  \n",
      "     |  .. warning:: See :ref:`reproducibility`, and :ref:`dataloader-workers-random-seed`, and\n",
      "     |               :ref:`data-loading-randomness` notes for random seed related questions.\n",
      "     |  \n",
      "     |  Method resolution order:\n",
      "     |      DataLoader\n",
      "     |      typing.Generic\n",
      "     |      builtins.object\n",
      "     |  \n",
      "     |  Methods defined here:\n",
      "     |  \n",
      "     |  __init__(self, dataset: torch.utils.data.dataset.Dataset[+T_co], batch_size: Union[int, NoneType] = 1, shuffle: Union[bool, NoneType] = None, sampler: Union[torch.utils.data.sampler.Sampler, Iterable, NoneType] = None, batch_sampler: Union[torch.utils.data.sampler.Sampler[Sequence], Iterable[Sequence], NoneType] = None, num_workers: int = 0, collate_fn: Union[Callable[[List[~T]], Any], NoneType] = None, pin_memory: bool = False, drop_last: bool = False, timeout: float = 0, worker_init_fn: Union[Callable[[int], NoneType], NoneType] = None, multiprocessing_context=None, generator=None, *, prefetch_factor: int = 2, persistent_workers: bool = False, pin_memory_device: str = '')\n",
      "     |      Initialize self.  See help(type(self)) for accurate signature.\n",
      "     |  \n",
      "     |  __iter__(self) -> '_BaseDataLoaderIter'\n",
      "     |      # We quote '_BaseDataLoaderIter' since it isn't defined yet and the definition can't be moved up\n",
      "     |      # since '_BaseDataLoaderIter' references 'DataLoader'.\n",
      "     |  \n",
      "     |  __len__(self) -> int\n",
      "     |  \n",
      "     |  __setattr__(self, attr, val)\n",
      "     |      Implement setattr(self, name, value).\n",
      "     |  \n",
      "     |  check_worker_number_rationality(self)\n",
      "     |  \n",
      "     |  ----------------------------------------------------------------------\n",
      "     |  Data descriptors defined here:\n",
      "     |  \n",
      "     |  __dict__\n",
      "     |      dictionary for instance variables (if defined)\n",
      "     |  \n",
      "     |  __weakref__\n",
      "     |      list of weak references to the object (if defined)\n",
      "     |  \n",
      "     |  multiprocessing_context\n",
      "     |  \n",
      "     |  ----------------------------------------------------------------------\n",
      "     |  Data and other attributes defined here:\n",
      "     |  \n",
      "     |  __annotations__ = {'_iterator': typing.Union[ForwardRef('_BaseDataLoad...\n",
      "     |  \n",
      "     |  __orig_bases__ = (typing.Generic[+T_co],)\n",
      "     |  \n",
      "     |  __parameters__ = (+T_co,)\n",
      "     |  \n",
      "     |  ----------------------------------------------------------------------\n",
      "     |  Class methods inherited from typing.Generic:\n",
      "     |  \n",
      "     |  __class_getitem__(params) from builtins.type\n",
      "     |  \n",
      "     |  __init_subclass__(*args, **kwargs) from builtins.type\n",
      "     |      This method is called when a class is subclassed.\n",
      "     |      \n",
      "     |      The default implementation does nothing. It may be\n",
      "     |      overridden to extend subclasses.\n",
      "     |  \n",
      "     |  ----------------------------------------------------------------------\n",
      "     |  Static methods inherited from typing.Generic:\n",
      "     |  \n",
      "     |  __new__(cls, *args, **kwds)\n",
      "     |      Create and return a new object.  See help(type) for accurate signature.\n",
      "\n",
      "FUNCTIONS\n",
      "    default_collate(batch)\n",
      "        Function that takes in a batch of data and puts the elements within the batch\n",
      "        into a tensor with an additional outer dimension - batch size. The exact output type can be\n",
      "        a :class:`torch.Tensor`, a `Sequence` of :class:`torch.Tensor`, a\n",
      "        Collection of :class:`torch.Tensor`, or left unchanged, depending on the input type.\n",
      "        This is used as the default function for collation when\n",
      "        `batch_size` or `batch_sampler` is defined in :class:`~torch.utils.data.DataLoader`.\n",
      "        \n",
      "        Here is the general input type (based on the type of the element within the batch) to output type mapping:\n",
      "        \n",
      "            * :class:`torch.Tensor` -> :class:`torch.Tensor` (with an added outer dimension batch size)\n",
      "            * NumPy Arrays -> :class:`torch.Tensor`\n",
      "            * `float` -> :class:`torch.Tensor`\n",
      "            * `int` -> :class:`torch.Tensor`\n",
      "            * `str` -> `str` (unchanged)\n",
      "            * `bytes` -> `bytes` (unchanged)\n",
      "            * `Mapping[K, V_i]` -> `Mapping[K, default_collate([V_1, V_2, ...])]`\n",
      "            * `NamedTuple[V1_i, V2_i, ...]` -> `NamedTuple[default_collate([V1_1, V1_2, ...]),\n",
      "              default_collate([V2_1, V2_2, ...]), ...]`\n",
      "            * `Sequence[V1_i, V2_i, ...]` -> `Sequence[default_collate([V1_1, V1_2, ...]),\n",
      "              default_collate([V2_1, V2_2, ...]), ...]`\n",
      "        \n",
      "        Args:\n",
      "            batch: a single batch to be collated\n",
      "        \n",
      "        Examples:\n",
      "            >>> # Example with a batch of `int`s:\n",
      "            >>> default_collate([0, 1, 2, 3])\n",
      "            tensor([0, 1, 2, 3])\n",
      "            >>> # Example with a batch of `str`s:\n",
      "            >>> default_collate(['a', 'b', 'c'])\n",
      "            ['a', 'b', 'c']\n",
      "            >>> # Example with `Map` inside the batch:\n",
      "            >>> default_collate([{'A': 0, 'B': 1}, {'A': 100, 'B': 100}])\n",
      "            {'A': tensor([  0, 100]), 'B': tensor([  1, 100])}\n",
      "            >>> # Example with `NamedTuple` inside the batch:\n",
      "            >>> Point = namedtuple('Point', ['x', 'y'])\n",
      "            >>> default_collate([Point(0, 0), Point(1, 1)])\n",
      "            Point(x=tensor([0, 1]), y=tensor([0, 1]))\n",
      "            >>> # Example with `Tuple` inside the batch:\n",
      "            >>> default_collate([(0, 1), (2, 3)])\n",
      "            [tensor([0, 2]), tensor([1, 3])]\n",
      "            >>> # Example with `List` inside the batch:\n",
      "            >>> default_collate([[0, 1], [2, 3]])\n",
      "            [tensor([0, 2]), tensor([1, 3])]\n",
      "    \n",
      "    default_convert(data)\n",
      "        Function that converts each NumPy array element into a :class:`torch.Tensor`. If the input is a `Sequence`,\n",
      "        `Collection`, or `Mapping`, it tries to convert each element inside to a :class:`torch.Tensor`.\n",
      "        If the input is not an NumPy array, it is left unchanged.\n",
      "        This is used as the default function for collation when both `batch_sampler` and\n",
      "        `batch_size` are NOT defined in :class:`~torch.utils.data.DataLoader`.\n",
      "        \n",
      "        The general input type to output type mapping is similar to that\n",
      "        of :func:`~torch.utils.data.default_collate`. See the description there for more details.\n",
      "        \n",
      "        Args:\n",
      "            data: a single data point to be converted\n",
      "        \n",
      "        Examples:\n",
      "            >>> # Example with `int`\n",
      "            >>> default_convert(0)\n",
      "            0\n",
      "            >>> # Example with NumPy array\n",
      "            >>> default_convert(np.array([0, 1]))\n",
      "            tensor([0, 1])\n",
      "            >>> # Example with NamedTuple\n",
      "            >>> Point = namedtuple('Point', ['x', 'y'])\n",
      "            >>> default_convert(Point(0, 0))\n",
      "            Point(x=0, y=0)\n",
      "            >>> default_convert(Point(np.array(0), np.array(0)))\n",
      "            Point(x=tensor(0), y=tensor(0))\n",
      "            >>> # Example with List\n",
      "            >>> default_convert([np.array([0, 1]), np.array([2, 3])])\n",
      "            [tensor([0, 1]), tensor([2, 3])]\n",
      "    \n",
      "    get_worker_info()\n",
      "        Returns the information about the current\n",
      "        :class:`~torch.utils.data.DataLoader` iterator worker process.\n",
      "        \n",
      "        When called in a worker, this returns an object guaranteed to have the\n",
      "        following attributes:\n",
      "        \n",
      "        * :attr:`id`: the current worker id.\n",
      "        * :attr:`num_workers`: the total number of workers.\n",
      "        * :attr:`seed`: the random seed set for the current worker. This value is\n",
      "          determined by main process RNG and the worker id. See\n",
      "          :class:`~torch.utils.data.DataLoader`'s documentation for more details.\n",
      "        * :attr:`dataset`: the copy of the dataset object in **this** process. Note\n",
      "          that this will be a different object in a different process than the one\n",
      "          in the main process.\n",
      "        \n",
      "        When called in the main process, this returns ``None``.\n",
      "        \n",
      "        .. note::\n",
      "           When used in a :attr:`worker_init_fn` passed over to\n",
      "           :class:`~torch.utils.data.DataLoader`, this method can be useful to\n",
      "           set up each worker process differently, for instance, using ``worker_id``\n",
      "           to configure the ``dataset`` object to only read a specific fraction of a\n",
      "           sharded dataset, or use ``seed`` to seed other libraries used in dataset\n",
      "           code.\n",
      "\n",
      "DATA\n",
      "    __all__ = ['DataLoader', 'get_worker_info', 'default_collate', 'defaul...\n",
      "    __annotations__ = {'default_collate': typing.Callable[[typing.List[~T]...\n",
      "\n",
      "FILE\n",
      "    /home/yc/anaconda3/envs/pytorch_p38/lib/python3.8/site-packages/torch/utils/data/dataloader.py\n",
      "\n",
      "\n"
     ]
    }
   ],
   "source": [
    "help(torch.utils.data.dataloader)"
   ]
  },
  {
   "cell_type": "markdown",
   "id": "f8e04f36",
   "metadata": {},
   "source": [
    "* 结合代码，我们梳理一下 DataLoader 中的几个参数，它们分别表示：\n",
    "\n",
    "     * dataset：Dataset 类型，输入的数据集，必须参数；\n",
    "     * batch_size：int 类型，每个 batch 有多少个样本；\n",
    "     * shuffle：bool 类型，在每个 epoch 开始的时候，是否对数据进行重新打乱；\n",
    "     * num_workers：int 类型，加载数据的进程数，0 意味着所有的数据都会被加载进主进程，默认为 0。"
   ]
  },
  {
   "cell_type": "markdown",
   "id": "fd0470c8",
   "metadata": {},
   "source": [
    "# 什么是 Torchvision\n",
    "\n",
    "    yTroch 官方为我们提供了一些常用的图片数据集，如果你需要读取这些数据集，那么无需自己实现，只需要利用 Torchvision 就可以搞定。\n",
    "    Torchvision 库就是常用数据集 + 常见网络模型 + 常用图像处理方法。\n",
    "    Torchvision 中默认使用的图像加载器是 PIL"
   ]
  },
  {
   "attachments": {},
   "cell_type": "markdown",
   "id": "36c6dcbb",
   "metadata": {},
   "source": [
    "## 利用 Torchvision 读取数据\n",
    "\n",
    "    Torchvision 库中的torchvision.datasets包中提供了丰富的图像数据集的接口。常用的图像数据集，例如 MNIST、COCO 等，这个模块都为我们做了相应的封装。\n",
    "    下表中出了torchvision.datasets包所有支持的数据集。各个数据集的说明与接口，详见链接https://pytorch.org/vision/stable/datasets.html\n",
    "    ![image.png](attachment:image.png)\n",
    "    \n",
    "    torchvision.datasets这个包本身并不包含数据集的文件本身，它的工作方式是\n",
    "           * 先从网络上把数据集下载到用户指定目录，\n",
    "           * 然后再用它的加载器把数据集加载到内存中。\n",
    "           * 最后，把这个加载后的数据集作为对象返回给用户。\n",
    "           \n",
    "### MNIST 数据集简介\n",
    "\n",
    "### 数据读取"
   ]
  },
  {
   "cell_type": "code",
   "execution_count": 12,
   "id": "099e606a",
   "metadata": {},
   "outputs": [
    {
     "name": "stdout",
     "output_type": "stream",
     "text": [
      "Downloading http://yann.lecun.com/exdb/mnist/train-images-idx3-ubyte.gz\n",
      "Downloading http://yann.lecun.com/exdb/mnist/train-images-idx3-ubyte.gz to ./data/MNIST/raw/train-images-idx3-ubyte.gz\n"
     ]
    },
    {
     "name": "stderr",
     "output_type": "stream",
     "text": [
      "100.0%\n"
     ]
    },
    {
     "name": "stdout",
     "output_type": "stream",
     "text": [
      "Extracting ./data/MNIST/raw/train-images-idx3-ubyte.gz to ./data/MNIST/raw\n",
      "\n",
      "Downloading http://yann.lecun.com/exdb/mnist/train-labels-idx1-ubyte.gz\n",
      "Downloading http://yann.lecun.com/exdb/mnist/train-labels-idx1-ubyte.gz to ./data/MNIST/raw/train-labels-idx1-ubyte.gz\n"
     ]
    },
    {
     "name": "stderr",
     "output_type": "stream",
     "text": [
      "100.0%\n"
     ]
    },
    {
     "name": "stdout",
     "output_type": "stream",
     "text": [
      "Extracting ./data/MNIST/raw/train-labels-idx1-ubyte.gz to ./data/MNIST/raw\n",
      "\n",
      "Downloading http://yann.lecun.com/exdb/mnist/t10k-images-idx3-ubyte.gz\n",
      "Downloading http://yann.lecun.com/exdb/mnist/t10k-images-idx3-ubyte.gz to ./data/MNIST/raw/t10k-images-idx3-ubyte.gz\n"
     ]
    },
    {
     "name": "stderr",
     "output_type": "stream",
     "text": [
      "100.0%\n"
     ]
    },
    {
     "name": "stdout",
     "output_type": "stream",
     "text": [
      "Extracting ./data/MNIST/raw/t10k-images-idx3-ubyte.gz to ./data/MNIST/raw\n",
      "\n",
      "Downloading http://yann.lecun.com/exdb/mnist/t10k-labels-idx1-ubyte.gz\n",
      "Downloading http://yann.lecun.com/exdb/mnist/t10k-labels-idx1-ubyte.gz to ./data/MNIST/raw/t10k-labels-idx1-ubyte.gz\n"
     ]
    },
    {
     "name": "stderr",
     "output_type": "stream",
     "text": [
      "\r",
      "100.0%"
     ]
    },
    {
     "name": "stdout",
     "output_type": "stream",
     "text": [
      "Extracting ./data/MNIST/raw/t10k-labels-idx1-ubyte.gz to ./data/MNIST/raw\n",
      "\n"
     ]
    },
    {
     "name": "stderr",
     "output_type": "stream",
     "text": [
      "\n"
     ]
    }
   ],
   "source": [
    "\n",
    "# 以MNIST为例\n",
    "import torchvision\n",
    "mnist_dataset = torchvision.datasets.MNIST(root='./data',\n",
    "                                       train=True,\n",
    "                                       transform=None,\n",
    "                                       target_transform=None,\n",
    "                                       download=True)"
   ]
  },
  {
   "cell_type": "markdown",
   "id": "711efbcf",
   "metadata": {},
   "source": [
    "\n",
    "* root：是一个字符串，用于指定你想要保存 MNIST 数据集的位置。如果 download 是 Flase，则会从目标位置读取数据集；\n",
    "* download：是布尔类型，表示是否下载数据集。如果为 True，则会自动从网上下载这个数据集，存储到 root 指定的位置。如果指定位置已经存在数据集文件，则不会重复下载；\n",
    "* train：是布尔类型，表示是否加载训练集数据。如果为 True，则只加载训练数据。如果为 False，则只加载测试数据集。这里需要注意，并不是所有的数据集都做了训练集和测试集的划分，这个参数并不一定是有效参数，具体需要参考官方接口说明文档；\n",
    "* transform：用于对图像进行预处理操作，例如数据增强、归一化、旋转或缩放等。这些操作我们会在下节课展开讲解；\n",
    "* target_transform：用于对图像标签进行预处理操作。"
   ]
  },
  {
   "cell_type": "code",
   "execution_count": 18,
   "id": "b51d304a",
   "metadata": {},
   "outputs": [
    {
     "data": {
      "text/plain": [
       "type"
      ]
     },
     "execution_count": 18,
     "metadata": {},
     "output_type": "execute_result"
    }
   ],
   "source": [
    "type(torchvision.datasets.mnist.MNIST)"
   ]
  },
  {
   "cell_type": "markdown",
   "id": "6f664bce",
   "metadata": {},
   "source": [
    "### 数据预览"
   ]
  },
  {
   "cell_type": "code",
   "execution_count": 19,
   "id": "f71d39ae",
   "metadata": {},
   "outputs": [
    {
     "name": "stderr",
     "output_type": "stream",
     "text": [
      "IOPub data rate exceeded.\n",
      "The notebook server will temporarily stop sending output\n",
      "to the client in order to avoid crashing it.\n",
      "To change this limit, set the config variable\n",
      "`--NotebookApp.iopub_data_rate_limit`.\n",
      "\n",
      "Current values:\n",
      "NotebookApp.iopub_data_rate_limit=1000000.0 (bytes/sec)\n",
      "NotebookApp.rate_limit_window=3.0 (secs)\n",
      "\n"
     ]
    }
   ],
   "source": [
    "\n",
    "mnist_dataset_list = list(mnist_dataset)\n",
    "print(mnist_dataset_list)"
   ]
  },
  {
   "cell_type": "code",
   "execution_count": 20,
   "id": "9bedd6af",
   "metadata": {},
   "outputs": [
    {
     "data": {
      "image/png": "[encoded data removed]",
      "text/plain": [
       "<PIL.Image.Image image mode=L size=28x28>"
      ]
     },
     "metadata": {},
     "output_type": "display_data"
    },
    {
     "name": "stdout",
     "output_type": "stream",
     "text": [
      "Image label is: 5\n"
     ]
    }
   ],
   "source": [
    "\n",
    "display(mnist_dataset_list[0][0])\n",
    "print(\"Image label is:\", mnist_dataset_list[0][1])"
   ]
  },
  {
   "cell_type": "markdown",
   "id": "38168963",
   "metadata": {},
   "source": [
    "# 小结"
   ]
  },
  {
   "cell_type": "markdown",
   "id": "04f3340a",
   "metadata": {},
   "source": [
    "* 两种读取数据的方法，也就是自定义和读取常用图像数据集。\n",
    "* 最通用的数据读取方法，就是自己定义一个 Dataset 的派生类。而读取常用的图像数据集，就可以利用 PyTorch 提供的视觉包 Torchvision。\n",
    "* torchvision.datasets继承了 Dataset 类，它在预定义许多常用的数据集的同时，还预留了数据预处理与数据增强的接口。\n"
   ]
  }
 ],
 "metadata": {
  "kernelspec": {
   "display_name": "Python [conda env:pytorch_p38]",
   "language": "python",
   "name": "conda-env-pytorch_p38-py"
  },
  "language_info": {
   "codemirror_mode": {
    "name": "ipython",
    "version": 3
   },
   "file_extension": ".py",
   "mimetype": "text/x-python",
   "name": "python",
   "nbconvert_exporter": "python",
   "pygments_lexer": "ipython3",
   "version": "3.8.13"
  },
  "toc": {
   "base_numbering": 1,
   "nav_menu": {},
   "number_sections": true,
   "sideBar": true,
   "skip_h1_title": false,
   "title_cell": "Table of Contents",
   "title_sidebar": "Contents",
   "toc_cell": false,
   "toc_position": {},
   "toc_section_display": true,
   "toc_window_display": true
  }
 },
 "nbformat": 4,
 "nbformat_minor": 5
}
