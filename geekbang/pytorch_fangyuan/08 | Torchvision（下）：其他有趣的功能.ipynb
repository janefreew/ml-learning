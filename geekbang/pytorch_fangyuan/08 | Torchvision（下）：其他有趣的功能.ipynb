{
 "cells": [
  {
   "cell_type": "markdown",
   "id": "9f1d6600",
   "metadata": {},
   "source": [
    "#  常见网络模型\n",
    "\n",
    "## torchvision.models 模块\n",
    "\n",
    "* 图像分类\n",
    "    图像分类，指的是单纯把一张图片判断为某一类\n",
    "* 图像分割\n",
    "* 物体检测\n",
    "* 视频分类"
   ]
  },
  {
   "cell_type": "markdown",
   "id": "caba7bde",
   "metadata": {},
   "source": [
    "## 实例化一个 GoogLeNet 网络"
   ]
  },
  {
   "cell_type": "code",
   "execution_count": 1,
   "id": "92c550b9",
   "metadata": {},
   "outputs": [
    {
     "name": "stderr",
     "output_type": "stream",
     "text": [
      "/home/yc/anaconda3/envs/pytorch_p38/lib/python3.8/site-packages/torchvision/models/googlenet.py:47: FutureWarning: The default weight initialization of GoogleNet will be changed in future releases of torchvision. If you wish to keep the old behavior (which leads to long initialization times due to scipy/scipy#11299), please set init_weights=True.\n",
      "  warnings.warn(\n"
     ]
    }
   ],
   "source": [
    "\n",
    "import torchvision.models as models\n",
    "googlenet = models.googlenet()\n"
   ]
  },
  {
   "cell_type": "code",
   "execution_count": 5,
   "id": "428d476a",
   "metadata": {},
   "outputs": [],
   "source": [
    "\n",
    "import torchvision.models as models\n",
    "googlenet = models.googlenet(pretrained=True)"
   ]
  },
  {
   "cell_type": "markdown",
   "id": "ab2043de",
   "metadata": {},
   "source": [
    "## 模型微调\n",
    "\n",
    "**那什么是“fine-tuning”呢？**\n",
    "\n",
    "**迁移学习，可以用已经在 ImageNet 数据集上训练好的模型来达成你的目的。**\n",
    "\n",
    "**模型微调**，简单来说就是先在一个比较通用、宽泛的数据集上进行大量训练得出了一套参数，然后再使用这套预训练好的网络和参数，在自己的任务和数据集上进行训练。使用经过预训练的模型，要比使用随机初始化的模型训练效果更好，更容易收敛，并且训练速度更快，在小数据集上也能取得比较理想的效果。"
   ]
  },
  {
   "cell_type": "code",
   "execution_count": 6,
   "id": "59e98b8a",
   "metadata": {},
   "outputs": [
    {
     "name": "stdout",
     "output_type": "stream",
     "text": [
      "fc_in_features: 1024\n",
      "fc_out_features: 1000\n"
     ]
    },
    {
     "data": {
      "text/plain": [
       "'\\n输出：\\nfc_in_features: 1024\\nfc_out_features: 1000\\n'"
      ]
     },
     "execution_count": 6,
     "metadata": {},
     "output_type": "execute_result"
    }
   ],
   "source": [
    "\n",
    "import torch\n",
    "import torchvision.models as models\n",
    "\n",
    "# 加载预训练模型\n",
    "googlenet = models.googlenet(pretrained=True)\n",
    "\n",
    "# 提取分类层的输入参数\n",
    "fc_in_features = googlenet.fc.in_features\n",
    "print(\"fc_in_features:\", fc_in_features)\n",
    "\n",
    "# 查看分类层的输出参数\n",
    "fc_out_features = googlenet.fc.out_features\n",
    "print(\"fc_out_features:\", fc_out_features)\n",
    "\n",
    "# 修改预训练模型的输出分类数(在图像分类原理中会具体介绍torch.nn.Linear)\n",
    "googlenet.fc = torch.nn.Linear(fc_in_features, 10)\n",
    "'''\n",
    "输出：\n",
    "fc_in_features: 1024\n",
    "fc_out_features: 1000\n",
    "'''"
   ]
  },
  {
   "cell_type": "markdown",
   "id": "60d71704",
   "metadata": {},
   "source": [
    "## 其他常用函数\n",
    "\n",
    "### make_grid\n",
    "\n",
    ">torchvision.utils.make_grid(tensor, nrow=8, padding=2) \n",
    "\n",
    "* tensor：类型是 Tensor 或列表，如果输入类型是 Tensor，其形状应是 (B x C x H x W)；如果输入类型是列表，列表中元素应为相同大小的图片。\n",
    "* nrow：表示一行放入的图片数量，默认为 8。\n",
    "* padding：子图像与子图像之间的边框宽度，默认为 2 像素。"
   ]
  },
  {
   "cell_type": "code",
   "execution_count": 7,
   "id": "ce3add7d",
   "metadata": {},
   "outputs": [
    {
     "name": "stdout",
     "output_type": "stream",
     "text": [
      "torch.Size([32, 1, 28, 28])\n"
     ]
    },
    {
     "data": {
      "image/png": "[encoded data removed]",
      "text/plain": [
       "<PIL.Image.Image image mode=RGB size=242x122>"
      ]
     },
     "metadata": {},
     "output_type": "display_data"
    }
   ],
   "source": [
    "\n",
    "import torchvision\n",
    "from torchvision import datasets\n",
    "from torchvision import transforms\n",
    "from torch.utils.data import DataLoader\n",
    "\n",
    "# 加载MNIST数据集\n",
    "mnist_dataset = datasets.MNIST(root='./data',\n",
    "                               train=False,\n",
    "                               transform=transforms.ToTensor(),\n",
    "                               target_transform=None,\n",
    "                               download=True)\n",
    "# 取32张图片的tensor\n",
    "tensor_dataloader = DataLoader(dataset=mnist_dataset,\n",
    "                               batch_size=32)\n",
    "data_iter = iter(tensor_dataloader)\n",
    "img_tensor, label_tensor = data_iter.next()\n",
    "print(img_tensor.shape)\n",
    "'''\n",
    "输出：torch.Size([32, 1, 28, 28])\n",
    "'''\n",
    "# 将32张图片拼接在一个网格中\n",
    "grid_tensor = torchvision.utils.make_grid(img_tensor, nrow=8, padding=2)\n",
    "grid_img = transforms.ToPILImage()(grid_tensor)\n",
    "display(grid_img)"
   ]
  },
  {
   "cell_type": "markdown",
   "id": "98024689",
   "metadata": {},
   "source": [
    "### save_img\n",
    "\n",
    "\n",
    ">torchvision.utils.save_image(tensor, fp, **kwargs)\n",
    "\n",
    "* tensor：类型是 Tensor 或列表，如果输入类型是 Tensor，直接将 Tensor 保存；如果输入类型是列表，则先调用 make_grid 函数生成一张图片的 Tensor，然后再保存。\n",
    "* fp：保存图片的文件名；\n",
    "* **kwargs：make_grid 函数中的参数，前面已经讲过了。"
   ]
  },
  {
   "cell_type": "code",
   "execution_count": null,
   "id": "b01afd62",
   "metadata": {},
   "outputs": [],
   "source": []
  },
  {
   "cell_type": "markdown",
   "id": "84f9bfd9",
   "metadata": {},
   "source": [
    "# 小结\n",
    "\n",
    "今天的重点内容是torchvision.models模块的使用，包括如何**实例化一个网络**与如何进行**模型的微调**。\n",
    "\n",
    "    torchvision.models模块为我们提供了深度学习中各种经典的网络结构以及训练好的模型，我们不仅可以实例化一个随机初始化的网络模型，还可以实例化一个预训练好的网络模型。\n",
    "    \n",
    "    模型微调可以让我们在自己的小数据集上快速训练模型，并取得比较理想的效果。但是我们需要根据具体问题对预训练模型或数据进行一些修改，你可以灵活调整输出类别的数量，或者调整输入图像的大小。\n",
    "    除了模型微调，我还讲了两个 Torchvision 中有趣的函数，make_grid 和 save_img，我还结合之前我们学习过的读取数据集以及图像变换的内容，为你做了演示。相信 Torchvision 工具配合 PyTorch 使用，一定能够使你事半功倍。"
   ]
  },
  {
   "cell_type": "markdown",
   "id": "d8275863",
   "metadata": {},
   "source": [
    "# 每日一练"
   ]
  },
  {
   "cell_type": "markdown",
   "id": "f4498c37",
   "metadata": {},
   "source": [
    "# QA"
   ]
  },
  {
   "cell_type": "markdown",
   "id": "8df4135a",
   "metadata": {},
   "source": [
    "# todo"
   ]
  },
  {
   "cell_type": "code",
   "execution_count": null,
   "id": "3bd2d2ec",
   "metadata": {},
   "outputs": [],
   "source": []
  }
 ],
 "metadata": {
  "kernelspec": {
   "display_name": "Python [conda env:pytorch_p38]",
   "language": "python",
   "name": "conda-env-pytorch_p38-py"
  },
  "language_info": {
   "codemirror_mode": {
    "name": "ipython",
    "version": 3
   },
   "file_extension": ".py",
   "mimetype": "text/x-python",
   "name": "python",
   "nbconvert_exporter": "python",
   "pygments_lexer": "ipython3",
   "version": "3.8.13"
  },
  "toc": {
   "base_numbering": 1,
   "nav_menu": {},
   "number_sections": true,
   "sideBar": true,
   "skip_h1_title": false,
   "title_cell": "Table of Contents",
   "title_sidebar": "Contents",
   "toc_cell": false,
   "toc_position": {},
   "toc_section_display": true,
   "toc_window_display": true
  }
 },
 "nbformat": 4,
 "nbformat_minor": 5
}
