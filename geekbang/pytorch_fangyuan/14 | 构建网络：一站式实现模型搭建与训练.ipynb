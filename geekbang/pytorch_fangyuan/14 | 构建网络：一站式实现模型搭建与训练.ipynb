{
 "cells": [
  {
   "cell_type": "markdown",
   "id": "9f1d6600",
   "metadata": {},
   "source": [
    "# 构建自己的模型"
   ]
  },
  {
   "cell_type": "code",
   "execution_count": 1,
   "id": "73984326",
   "metadata": {},
   "outputs": [
    {
     "data": {
      "text/plain": [
       "[<matplotlib.lines.Line2D at 0x7fa761e00fa0>]"
      ]
     },
     "execution_count": 1,
     "metadata": {},
     "output_type": "execute_result"
    },
    {
     "data": {
      "image/png": "[encoded data removed]",
      "text/plain": [
       "<Figure size 432x288 with 1 Axes>"
      ]
     },
     "metadata": {
      "needs_background": "light"
     },
     "output_type": "display_data"
    }
   ],
   "source": [
    "\n",
    "import numpy as np\n",
    "import random\n",
    "from matplotlib import pyplot as plt\n",
    "\n",
    "w = 2\n",
    "b = 3\n",
    "xlim = [-10, 10]\n",
    "x_train = np.random.randint(low=xlim[0], high=xlim[1], size=30)\n",
    "\n",
    "y_train = [w * x + b + random.randint(0,2) for x in x_train]\n",
    "\n",
    "plt.plot(x_train, y_train, 'bo')"
   ]
  },
  {
   "cell_type": "code",
   "execution_count": 2,
   "id": "0b773f1a",
   "metadata": {},
   "outputs": [],
   "source": [
    "\n",
    "import torch\n",
    "from torch import nn\n",
    "\n",
    "class LinearModel(nn.Module):\n",
    "  def __init__(self):\n",
    "    super().__init__()\n",
    "    self.weight = nn.Parameter(torch.randn(1))\n",
    "    self.bias = nn.Parameter(torch.randn(1))\n",
    "\n",
    "  def forward(self, input):\n",
    "    return (input * self.weight) + self.bias"
   ]
  },
  {
   "cell_type": "markdown",
   "id": "170683fb",
   "metadata": {},
   "source": [
    "\n",
    "## nn.Module 模块\n",
    "\n",
    "模块本身是 callable 的，当调用它的时候，就是执行 forward 函数，也就是前向传播。\n",
    "\n"
   ]
  },
  {
   "cell_type": "code",
   "execution_count": null,
   "id": "c13215d3",
   "metadata": {},
   "outputs": [],
   "source": [
    "\n",
    "model = LinearModel()\n",
    "x = torch.tensor(3)\n",
    "y = model(x)"
   ]
  },
  {
   "cell_type": "markdown",
   "id": "caba7bde",
   "metadata": {},
   "source": [
    "# 模型的训练"
   ]
  },
  {
   "cell_type": "code",
   "execution_count": 4,
   "id": "62990c2e",
   "metadata": {},
   "outputs": [],
   "source": [
    "\n",
    "model = LinearModel()\n",
    "# 定义优化器\n",
    "optimizer = torch.optim.SGD(model.parameters(), lr=1e-4, weight_decay=1e-2, momentum=0.9)\n",
    "\n",
    "y_train = torch.tensor(y_train, dtype=torch.float32)\n",
    "for _ in range(1000):\n",
    "    input = torch.from_numpy(x_train)\n",
    "    output = `model(input)\n",
    "    loss = nn.MSELoss()(output, y_train)\n",
    "    model.zero_grad()\n",
    "    loss.backward()\n",
    "    optimizer.step()"
   ]
  },
  {
   "cell_type": "code",
   "execution_count": 5,
   "id": "4a5a82a6",
   "metadata": {},
   "outputs": [
    {
     "name": "stdout",
     "output_type": "stream",
     "text": [
      "('weight', Parameter containing:\n",
      "tensor([2.0043], requires_grad=True))\n",
      "('bias', Parameter containing:\n",
      "tensor([3.3345], requires_grad=True))\n"
     ]
    }
   ],
   "source": [
    "\n",
    "for parameter in model.named_parameters():\n",
    "  print(parameter)\n"
   ]
  },
  {
   "cell_type": "code",
   "execution_count": 6,
   "id": "f3225dcd",
   "metadata": {},
   "outputs": [],
   "source": [
    "\n",
    "class CustomModel(nn.Module):\n",
    "  def __init__(self):\n",
    "    super().__init__()\n",
    "    self.conv1_1 = nn.Conv2d(in_channels=1, out_channels=3, kernel_size=3, padding='same')\n",
    "    self.conv1_2 = nn.Conv2d(in_channels=3, out_channels=1, kernel_size=2, padding='same')\n",
    "    ...\n",
    "    self.conv_m_1 = nn.Conv2d(in_channels=1, out_channels=3, kernel_size=3, padding='same')\n",
    "    self.conv_m_2 = nn.Conv2d(in_channels=3, out_channels=1, kernel_size=2, padding='same')\n",
    "    ...\n",
    "    self.conv_n_1 = nn.Conv2d(in_channels=1, out_channels=3, kernel_size=3, padding='same')\n",
    "    self.conv_n_2 = nn.Conv2d(in_channels=3, out_channels=1, kernel_size=2, padding='same')\n",
    "\n",
    "  def forward(self, input):\n",
    "    x = self.conv1_1(input)\n",
    "    x = self.conv1_2(x)\n",
    "    ...\n",
    "    x = self.conv_m_1(x)\n",
    "    x = self.conv_m_2(x)\n",
    "    ...    \n",
    "    x = self.conv_n_1(x)\n",
    "    x = self.conv_n_2(x)\n",
    "    ...\n",
    "    return x"
   ]
  },
  {
   "cell_type": "code",
   "execution_count": 7,
   "id": "3d0a66a2",
   "metadata": {},
   "outputs": [],
   "source": [
    "\n",
    "class CustomLayer(nn.Module):\n",
    "  def __init__(self, input_channels, output_channels):\n",
    "    super().__init__()\n",
    "    self.conv1_1 = nn.Conv2d(in_channels=input_channels, out_channels=3, kernel_size=3, padding='same')\n",
    "    self.conv1_2 = nn.Conv2d(in_channels=3, out_channels=output_channels, kernel_size=2, padding='same')\n",
    "    \n",
    "  def forward(self, input):\n",
    "    x = self.conv1_1(input)\n",
    "    x = self.conv1_2(x)\n",
    "    return x\n",
    "    "
   ]
  },
  {
   "cell_type": "code",
   "execution_count": 8,
   "id": "32463f9e",
   "metadata": {},
   "outputs": [
    {
     "ename": "SyntaxError",
     "evalue": "invalid character in identifier (449040411.py, line 4)",
     "output_type": "error",
     "traceback": [
      "\u001b[0;36m  Input \u001b[0;32mIn [8]\u001b[0;36m\u001b[0m\n\u001b[0;31m    self.layer1 = CustomLayer(1，1)\u001b[0m\n\u001b[0m                                ^\u001b[0m\n\u001b[0;31mSyntaxError\u001b[0m\u001b[0;31m:\u001b[0m invalid character in identifier\n"
     ]
    }
   ],
   "source": [
    "\n",
    "class CustomModel(nn.Module):\n",
    "  def __init__(self):\n",
    "    super().__init__()\n",
    "    self.layer1 = CustomLayer(1，1)\n",
    "    ...\n",
    "    self.layerm = CustomLayer(1，1)\n",
    "    ...\n",
    "    self.layern = CustomLayer(1，1)\n",
    "  \n",
    "  def forward(self, input):\n",
    "    x = self.layer1(input)\n",
    "    ...\n",
    "    x = self.layerm(x)\n",
    "    ...    \n",
    "    x = self.layern(x)\n",
    "    ...\n",
    "    return x"
   ]
  },
  {
   "cell_type": "markdown",
   "id": "ab2043de",
   "metadata": {},
   "source": [
    "# 模型保存与加载\n",
    "\n",
    "## 方式一：只保存训练好的参数"
   ]
  },
  {
   "cell_type": "code",
   "execution_count": 9,
   "id": "0b925eb1",
   "metadata": {},
   "outputs": [],
   "source": [
    "\n",
    "torch.save(model.state_dict(), './linear_model.pth')"
   ]
  },
  {
   "cell_type": "code",
   "execution_count": 10,
   "id": "1ed8dd32",
   "metadata": {},
   "outputs": [
    {
     "data": {
      "text/plain": [
       "OrderedDict([('weight', tensor([2.0043])), ('bias', tensor([3.3345]))])"
      ]
     },
     "execution_count": 10,
     "metadata": {},
     "output_type": "execute_result"
    }
   ],
   "source": [
    "model.state_dict()"
   ]
  },
  {
   "cell_type": "code",
   "execution_count": 12,
   "id": "546ca337",
   "metadata": {},
   "outputs": [
    {
     "name": "stdout",
     "output_type": "stream",
     "text": [
      "('weight', Parameter containing:\n",
      "tensor([2.0043], requires_grad=True))\n",
      "('bias', Parameter containing:\n",
      "tensor([3.3345], requires_grad=True))\n"
     ]
    }
   ],
   "source": [
    "\n",
    "# 先定义网络结构\n",
    "linear_model = LinearModel()\n",
    "# 加载保存的参数\n",
    "linear_model.load_state_dict(torch.load('./linear_model.pth'))\n",
    "linear_model.eval()\n",
    "for parameter in linear_model.named_parameters():\n",
    "  print(parameter)\n"
   ]
  },
  {
   "cell_type": "markdown",
   "id": "62588a84",
   "metadata": {},
   "source": [
    "## 方式二：保存网络结构与参数"
   ]
  },
  {
   "cell_type": "code",
   "execution_count": 13,
   "id": "5a0c03f6",
   "metadata": {},
   "outputs": [
    {
     "name": "stdout",
     "output_type": "stream",
     "text": [
      "('weight', Parameter containing:\n",
      "tensor([2.0043], requires_grad=True))\n",
      "('bias', Parameter containing:\n",
      "tensor([3.3345], requires_grad=True))\n"
     ]
    }
   ],
   "source": [
    "\n",
    "# 保存整个模型\n",
    "torch.save(model, './linear_model_with_arc.pth')\n",
    "# 加载模型，不需要创建网络了\n",
    "linear_model_2 = torch.load('./linear_model_with_arc.pth')\n",
    "linear_model_2.eval()\n",
    "for parameter in linear_model_2.named_parameters():\n",
    "  print(parameter)\n"
   ]
  },
  {
   "cell_type": "markdown",
   "id": "60d71704",
   "metadata": {},
   "source": [
    "# 使用 Torchvison 中的模型进行训练\n",
    "\n",
    "## 再说微调"
   ]
  },
  {
   "cell_type": "code",
   "execution_count": 14,
   "id": "c84b9a61",
   "metadata": {},
   "outputs": [
    {
     "name": "stderr",
     "output_type": "stream",
     "text": [
      "/home/yc/anaconda3/envs/pytorch_p38/lib/python3.8/site-packages/torchvision/models/_utils.py:208: UserWarning: The parameter 'pretrained' is deprecated since 0.13 and will be removed in 0.15, please use 'weights' instead.\n",
      "  warnings.warn(\n",
      "/home/yc/anaconda3/envs/pytorch_p38/lib/python3.8/site-packages/torchvision/models/_utils.py:223: UserWarning: Arguments other than a weight enum or `None` for 'weights' are deprecated since 0.13 and will be removed in 0.15. The current behavior is equivalent to passing `weights=AlexNet_Weights.IMAGENET1K_V1`. You can also use `weights=AlexNet_Weights.DEFAULT` to get the most up-to-date weights.\n",
      "  warnings.warn(msg)\n",
      "Downloading: \"https://download.pytorch.org/models/alexnet-owt-7be5be79.pth\" to /home/yc/.cache/torch/hub/checkpoints/alexnet-owt-7be5be79.pth\n",
      "100.0%\n"
     ]
    }
   ],
   "source": [
    "\n",
    "import torchvision.modelb as models\n",
    "alexnet = models.alexnet(pretrained=True)"
   ]
  },
  {
   "cell_type": "code",
   "execution_count": 16,
   "id": "c8dbd561",
   "metadata": {},
   "outputs": [],
   "source": [
    "!cp /home/yc/.cache/torch/hub/checkpoints/alexnet-owt-7be5be79.pth  ./model"
   ]
  },
  {
   "cell_type": "code",
   "execution_count": 20,
   "id": "60a0a0fd",
   "metadata": {},
   "outputs": [
    {
     "data": {
      "text/plain": [
       "<All keys matched successfully>"
      ]
     },
     "execution_count": 20,
     "metadata": {},
     "output_type": "execute_result"
    }
   ],
   "source": [
    "import torchvision.models as models\n",
    "alexnet = models.alexnet()\n",
    "alexnet.load_state_dict(torch.load('./model/alexnet-owt-7be5be79.pth'))"
   ]
  },
  {
   "cell_type": "markdown",
   "id": "84f9bfd9",
   "metadata": {},
   "source": [
    "# 小结"
   ]
  },
  {
   "cell_type": "markdown",
   "id": "d8275863",
   "metadata": {},
   "source": [
    "# 每日一练"
   ]
  },
  {
   "cell_type": "markdown",
   "id": "f4498c37",
   "metadata": {},
   "source": [
    "# QA"
   ]
  },
  {
   "cell_type": "markdown",
   "id": "8df4135a",
   "metadata": {},
   "source": [
    "# todo"
   ]
  }
 ],
 "metadata": {
  "kernelspec": {
   "display_name": "Python [conda env:pytorch_p38]",
   "language": "python",
   "name": "conda-env-pytorch_p38-py"
  },
  "language_info": {
   "codemirror_mode": {
    "name": "ipython",
    "version": 3
   },
   "file_extension": ".py",
   "mimetype": "text/x-python",
   "name": "python",
   "nbconvert_exporter": "python",
   "pygments_lexer": "ipython3",
   "version": "3.8.13"
  },
  "toc": {
   "base_numbering": 1,
   "nav_menu": {},
   "number_sections": true,
   "sideBar": true,
   "skip_h1_title": false,
   "title_cell": "Table of Contents",
   "title_sidebar": "Contents",
   "toc_cell": false,
   "toc_position": {},
   "toc_section_display": true,
   "toc_window_display": false
  }
 },
 "nbformat": 4,
 "nbformat_minor": 5
}
