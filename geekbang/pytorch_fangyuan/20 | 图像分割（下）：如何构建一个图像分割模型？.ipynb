{
 "cells": [
  {
   "cell_type": "markdown",
   "id": "9f1d6600",
   "metadata": {},
   "source": [
    "# 数据部分\n",
    "\n",
    "数据、训练、评估"
   ]
  },
  {
   "cell_type": "markdown",
   "id": "caba7bde",
   "metadata": {},
   "source": [
    "# 分割图像的标记\n",
    "\n",
    "labelme"
   ]
  },
  {
   "cell_type": "markdown",
   "id": "ab2043de",
   "metadata": {},
   "source": [
    "# 数据读取\n",
    "\n",
    "继承 Dataset 类，然后实现 __init__、__len__ 和 __getitem__ 方法。"
   ]
  },
  {
   "cell_type": "markdown",
   "id": "60d71704",
   "metadata": {},
   "source": [
    "# 模型训练\n",
    "\n",
    "模型训练的老三样，分别是网络结构、损失函数和优化方法。"
   ]
  },
  {
   "cell_type": "markdown",
   "id": "2ccef3c6",
   "metadata": {},
   "source": [
    "# 模型预测"
   ]
  },
  {
   "cell_type": "markdown",
   "id": "93bc8cb3",
   "metadata": {},
   "source": [
    "# 模型评估"
   ]
  },
  {
   "cell_type": "markdown",
   "id": "84f9bfd9",
   "metadata": {},
   "source": [
    "# 小结"
   ]
  },
  {
   "cell_type": "markdown",
   "id": "d8275863",
   "metadata": {},
   "source": [
    "# 每日一练"
   ]
  },
  {
   "cell_type": "markdown",
   "id": "f4498c37",
   "metadata": {},
   "source": [
    "# QA"
   ]
  },
  {
   "cell_type": "markdown",
   "id": "8df4135a",
   "metadata": {},
   "source": [
    "# todo"
   ]
  },
  {
   "cell_type": "code",
   "execution_count": 1,
   "id": "cf823493",
   "metadata": {},
   "outputs": [
    {
     "name": "stdout",
     "output_type": "stream",
     "text": [
      "Cloning into 'geekTime-semantic-segmentation'...\n",
      "remote: Enumerating objects: 39, done.\u001b[K\n",
      "remote: Counting objects: 100% (39/39), done.\u001b[K\n",
      "remote: Compressing objects: 100% (37/37), done.\u001b[K\n",
      "remote: Total 39 (delta 4), reused 0 (delta 0), pack-reused 0\u001b[K\n",
      "Receiving objects: 100% (39/39), 680.99 KiB | 674.00 KiB/s, done.\n",
      "Resolving deltas: 100% (4/4), done.\n"
     ]
    }
   ],
   "source": [
    "!git clone git@github.com:syuu1987/geekTime-semantic-segmentation.git"
   ]
  },
  {
   "cell_type": "code",
   "execution_count": null,
   "id": "3d81f768",
   "metadata": {},
   "outputs": [],
   "source": []
  }
 ],
 "metadata": {
  "kernelspec": {
   "display_name": "Python [conda env:pytorch_p38]",
   "language": "python",
   "name": "conda-env-pytorch_p38-py"
  },
  "language_info": {
   "codemirror_mode": {
    "name": "ipython",
    "version": 3
   },
   "file_extension": ".py",
   "mimetype": "text/x-python",
   "name": "python",
   "nbconvert_exporter": "python",
   "pygments_lexer": "ipython3",
   "version": "3.8.13"
  },
  "toc": {
   "base_numbering": 1,
   "nav_menu": {},
   "number_sections": true,
   "sideBar": true,
   "skip_h1_title": false,
   "title_cell": "Table of Contents",
   "title_sidebar": "Contents",
   "toc_cell": false,
   "toc_position": {},
   "toc_section_display": true,
   "toc_window_display": false
  }
 },
 "nbformat": 4,
 "nbformat_minor": 5
}
